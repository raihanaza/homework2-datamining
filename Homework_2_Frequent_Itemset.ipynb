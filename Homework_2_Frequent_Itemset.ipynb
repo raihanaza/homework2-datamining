{
  "cells": [
    {
      "cell_type": "markdown",
      "id": "90d69ddc",
      "metadata": {
        "id": "90d69ddc"
      },
      "source": [
        "# Homework Assignment 2: Frequent Itemsets"
      ]
    },
    {
      "cell_type": "markdown",
      "id": "196c9b3b",
      "metadata": {
        "id": "196c9b3b"
      },
      "source": [
        "# Student Name:"
      ]
    },
    {
      "cell_type": "code",
      "execution_count": null,
      "id": "e771d564",
      "metadata": {
        "id": "e771d564"
      },
      "outputs": [],
      "source": [
        "# Apriori algorithm: Generating frequent itemsets\n",
        "\n",
        "import pandas as pd\n",
        "from mlxtend.preprocessing import TransactionEncoder\n",
        "\n",
        "dataset = [['Milk', 'Onion', 'Bread', 'Cheese', 'Cereals', 'Yogurt'],\n",
        "           ['Oil', 'Onion', 'Bread', 'Cheese', 'Cereals', 'Yogurt'],\n",
        "           ['Milk', 'Orange', 'Cheese', 'Cereals'],\n",
        "           ['Milk', 'Eggs', 'Corn', 'Cheese', 'Yogurt'],\n",
        "           ['Corn', 'Onion', 'Cheese', 'Ice cream', 'Cereals']]"
      ]
    },
    {
      "cell_type": "code",
      "execution_count": null,
      "id": "67e17762",
      "metadata": {
        "id": "67e17762"
      },
      "outputs": [],
      "source": [
        "# TransactionEncoder transforms the data into the correct format. Pandas helps us to create the dataframe:\n",
        "\n",
        "te = TransactionEncoder()\n",
        "te_ary = te.fit(dataset).transform(dataset)\n",
        "df = pd.DataFrame(te_ary, columns=te.columns_)\n",
        "print(df)"
      ]
    },
    {
      "cell_type": "code",
      "execution_count": null,
      "id": "83eb6d10",
      "metadata": {
        "id": "83eb6d10"
      },
      "outputs": [],
      "source": [
        "# Let us return the items and itemsets with at least 50% support:\n",
        "#By default, apriori returns the column indices of the items, which is helpful for association rule mining.\n",
        "#Set use_colnames=True to convert these integer values into the respective item names:\n",
        "\n",
        "from mlxtend.frequent_patterns import apriori\n",
        "\n",
        "# Replace the question marks with appropriate values\n",
        "frequent_itemsets = apriori(df, min_support=???, use_colnames=????)\n",
        "frequent_itemsets\n"
      ]
    },
    {
      "cell_type": "code",
      "execution_count": null,
      "id": "8dab1ea5",
      "metadata": {
        "id": "8dab1ea5"
      },
      "outputs": [],
      "source": [
        "# The association_rules() function allows to (1) specify your metric of interest (2) the according threshold.\n",
        "#In this notebook, the implemented measures are confidence and lift.\n",
        "#Let's say you are interested in rules derived from the frequent itemsets only if the level of confidence is above the 60 % threshold:\n",
        "\n",
        "from mlxtend.frequent_patterns import association_rules\n",
        "\n",
        "# Replace the question marks with appropriate values\n",
        "rules = association_rules(frequent_itemsets, metric=???, min_threshold=????)\n",
        "rules\n"
      ]
    },
    {
      "cell_type": "markdown",
      "id": "e07134d5",
      "metadata": {
        "id": "e07134d5"
      },
      "source": [
        "# Answer the following questions below"
      ]
    },
    {
      "cell_type": "code",
      "execution_count": null,
      "id": "59e3844b",
      "metadata": {
        "id": "59e3844b"
      },
      "outputs": [],
      "source": [
        "# Q1. Display associations rules for metric = 'lift' and min_threshold = 1.2\n",
        "# Q2. Display associations rules for metric = 'support' and min_threshold = 0.6\n",
        "\n",
        "# Let us add a new feature to the dataframe showing the length of antecedents. Following code does this feature creation:\n",
        "rules[\"antecedent_len\"] = rules[\"antecedents\"].apply(lambda x: len(x))\n",
        "print(rule)\n",
        "\n",
        "# Q3. At least 2 antecedents and confidence greater than or equal to 0.75\n",
        "# Q4. support atleast 0.8 and lift atleast 1.00\n",
        "# Q5. sort the rules in descending order first by length of antecedents and then by lift"
      ]
    }
  ],
  "metadata": {
    "kernelspec": {
      "display_name": "Python 3 (ipykernel)",
      "language": "python",
      "name": "python3"
    },
    "language_info": {
      "codemirror_mode": {
        "name": "ipython",
        "version": 3
      },
      "file_extension": ".py",
      "mimetype": "text/x-python",
      "name": "python",
      "nbconvert_exporter": "python",
      "pygments_lexer": "ipython3",
      "version": "3.9.7"
    },
    "latex_envs": {
      "LaTeX_envs_menu_present": true,
      "autoclose": false,
      "autocomplete": true,
      "bibliofile": "biblio.bib",
      "cite_by": "apalike",
      "current_citInitial": 1,
      "eqLabelWithNumbers": true,
      "eqNumInitial": 1,
      "hotkeys": {
        "equation": "Ctrl-E",
        "itemize": "Ctrl-I"
      },
      "labels_anchors": false,
      "latex_user_defs": false,
      "report_style_numbering": false,
      "user_envs_cfg": false
    },
    "toc": {
      "base_numbering": 1,
      "nav_menu": {},
      "number_sections": true,
      "sideBar": true,
      "skip_h1_title": false,
      "title_cell": "Table of Contents",
      "title_sidebar": "Contents",
      "toc_cell": false,
      "toc_position": {},
      "toc_section_display": true,
      "toc_window_display": false
    },
    "varInspector": {
      "cols": {
        "lenName": 16,
        "lenType": 16,
        "lenVar": 40
      },
      "kernels_config": {
        "python": {
          "delete_cmd_postfix": "",
          "delete_cmd_prefix": "del ",
          "library": "var_list.py",
          "varRefreshCmd": "print(var_dic_list())"
        },
        "r": {
          "delete_cmd_postfix": ") ",
          "delete_cmd_prefix": "rm(",
          "library": "var_list.r",
          "varRefreshCmd": "cat(var_dic_list()) "
        }
      },
      "types_to_exclude": [
        "module",
        "function",
        "builtin_function_or_method",
        "instance",
        "_Feature"
      ],
      "window_display": false
    },
    "colab": {
      "provenance": []
    }
  },
  "nbformat": 4,
  "nbformat_minor": 5
}